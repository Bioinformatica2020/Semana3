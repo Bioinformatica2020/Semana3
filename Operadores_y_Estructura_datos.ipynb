{
 "cells": [
  {
   "cell_type": "markdown",
   "metadata": {},
   "source": [
    "# Operadores\n",
    "\n",
    "### <font color = limegreen>Qué son, en qué casos los utilizamos</font> \n",
    "\n",
    "- Los operadores son símbolos matemáticos que llevan a cabo operaciones específicas entre operandos.  \n",
    "- Se usan cuando quieres realizar operaciones matemáticas o comparaciones\n",
    "\n",
    "\n",
    "## <font color = blue>Operadores aritméticos</font>\n",
    "Suma `+`  \n",
    "Resta `-`  \n",
    "Negación `-`  \n",
    "Multiplicación `*`  \n",
    "Exponente `**`  \n",
    "División `/`"
   ]
  },
  {
   "cell_type": "code",
   "execution_count": 56,
   "metadata": {},
   "outputs": [
    {
     "name": "stdout",
     "output_type": "stream",
     "text": [
      "Operando Operador operando\n"
     ]
    }
   ],
   "source": [
    "operando1 = 30\n",
    "operando2 = 20\n",
    "print(('Operando'), ('Operador'), ('operando'))"
   ]
  },
  {
   "cell_type": "code",
   "execution_count": 57,
   "metadata": {},
   "outputs": [
    {
     "name": "stdout",
     "output_type": "stream",
     "text": [
      "30 + 20\n",
      "resultado: 50\n"
     ]
    }
   ],
   "source": [
    "print((operando1), ('+'), (operando2))\n",
    "print(('resultado:'), (operando1 + operando2))"
   ]
  },
  {
   "cell_type": "code",
   "execution_count": 58,
   "metadata": {},
   "outputs": [
    {
     "data": {
      "text/plain": [
       "10"
      ]
     },
     "execution_count": 58,
     "metadata": {},
     "output_type": "execute_result"
    }
   ],
   "source": [
    "operando1 - operando2"
   ]
  },
  {
   "cell_type": "code",
   "execution_count": 59,
   "metadata": {},
   "outputs": [
    {
     "data": {
      "text/plain": [
       "600"
      ]
     },
     "execution_count": 59,
     "metadata": {},
     "output_type": "execute_result"
    }
   ],
   "source": [
    "operando1 * operando2"
   ]
  },
  {
   "cell_type": "code",
   "execution_count": 60,
   "metadata": {},
   "outputs": [
    {
     "data": {
      "text/plain": [
       "900"
      ]
     },
     "execution_count": 60,
     "metadata": {},
     "output_type": "execute_result"
    }
   ],
   "source": [
    "operando1 ** 2"
   ]
  },
  {
   "cell_type": "code",
   "execution_count": 61,
   "metadata": {},
   "outputs": [
    {
     "data": {
      "text/plain": [
       "1.5"
      ]
     },
     "execution_count": 61,
     "metadata": {},
     "output_type": "execute_result"
    }
   ],
   "source": [
    "operando1 / operando2"
   ]
  },
  {
   "cell_type": "code",
   "execution_count": null,
   "metadata": {},
   "outputs": [],
   "source": []
  },
  {
   "cell_type": "code",
   "execution_count": 63,
   "metadata": {},
   "outputs": [
    {
     "name": "stdout",
     "output_type": "stream",
     "text": [
      "Operando Operador operando\n",
      "atgaccactaacgaggaattcatta + ggacacagatattcggtacagttttcga\n",
      "Secuencia final: atgaccactaacgaggaattcattaggacacagatattcggtacagttttcga\n"
     ]
    }
   ],
   "source": [
    "# en este caso el signo + concatena cadenas de caracteres\n",
    "print(('Operando'), ('Operador'), ('operando'))\n",
    "Operando1 = 'atgaccactaacgaggaattcatta'\n",
    "Operando2 = 'ggacacagatattcggtacagttttcga'\n",
    "\n",
    "print((Operando1), ('+'), (Operando2))\n",
    "print(('Secuencia final:'), (Operando1 + Operando2))"
   ]
  },
  {
   "cell_type": "code",
   "execution_count": 66,
   "metadata": {},
   "outputs": [
    {
     "data": {
      "text/plain": [
       "'atgaccactaacgaggaattcattaatgaccactaacgaggaattcatta'"
      ]
     },
     "execution_count": 66,
     "metadata": {},
     "output_type": "execute_result"
    }
   ],
   "source": [
    "Operando1 * 2"
   ]
  },
  {
   "cell_type": "code",
   "execution_count": null,
   "metadata": {},
   "outputs": [],
   "source": []
  },
  {
   "cell_type": "code",
   "execution_count": null,
   "metadata": {},
   "outputs": [],
   "source": []
  },
  {
   "cell_type": "code",
   "execution_count": null,
   "metadata": {},
   "outputs": [],
   "source": []
  },
  {
   "cell_type": "markdown",
   "metadata": {},
   "source": [
    "---\n",
    "## <font color = blue>Operadores relacionales y de asignación</font>\n",
    "Menor que `<`  \n",
    "Menor o igual que `<=`   \n",
    "Mayor que `>`  \n",
    "Mayor o igual que `>=`  \n",
    "Igual que `==`  \n",
    "No es igual `!=`   \n",
    "**Los resultados boleanos siempre devuelven `False` o `True`**   \n",
    "Asignación `=`  \n",
    "También están lo de asignación aumentada `+=` y `-=`, aplicada en iteraciones"
   ]
  },
  {
   "cell_type": "code",
   "execution_count": 54,
   "metadata": {},
   "outputs": [
    {
     "name": "stdout",
     "output_type": "stream",
     "text": [
      "operando1 = 30\n",
      "operando2 = 20\n"
     ]
    }
   ],
   "source": [
    "print('operando1 =', operando1)\n",
    "print('operando2 =', operando2)"
   ]
  },
  {
   "cell_type": "code",
   "execution_count": 46,
   "metadata": {},
   "outputs": [
    {
     "data": {
      "text/plain": [
       "False"
      ]
     },
     "execution_count": 46,
     "metadata": {},
     "output_type": "execute_result"
    }
   ],
   "source": [
    "operando1 < operando2"
   ]
  },
  {
   "cell_type": "code",
   "execution_count": 48,
   "metadata": {},
   "outputs": [
    {
     "data": {
      "text/plain": [
       "False"
      ]
     },
     "execution_count": 48,
     "metadata": {},
     "output_type": "execute_result"
    }
   ],
   "source": [
    "operando1 <= operando2"
   ]
  },
  {
   "cell_type": "code",
   "execution_count": 47,
   "metadata": {},
   "outputs": [
    {
     "data": {
      "text/plain": [
       "False"
      ]
     },
     "execution_count": 47,
     "metadata": {},
     "output_type": "execute_result"
    }
   ],
   "source": [
    "operando1 <= operando2"
   ]
  },
  {
   "cell_type": "code",
   "execution_count": 49,
   "metadata": {},
   "outputs": [
    {
     "data": {
      "text/plain": [
       "True"
      ]
     },
     "execution_count": 49,
     "metadata": {},
     "output_type": "execute_result"
    }
   ],
   "source": [
    "operando1 > operando2"
   ]
  },
  {
   "cell_type": "code",
   "execution_count": 50,
   "metadata": {},
   "outputs": [
    {
     "data": {
      "text/plain": [
       "True"
      ]
     },
     "execution_count": 50,
     "metadata": {},
     "output_type": "execute_result"
    }
   ],
   "source": [
    "operando1 >= operando2 "
   ]
  },
  {
   "cell_type": "code",
   "execution_count": 51,
   "metadata": {},
   "outputs": [
    {
     "data": {
      "text/plain": [
       "False"
      ]
     },
     "execution_count": 51,
     "metadata": {},
     "output_type": "execute_result"
    }
   ],
   "source": [
    "operando1 == operando2"
   ]
  },
  {
   "cell_type": "code",
   "execution_count": 52,
   "metadata": {},
   "outputs": [
    {
     "data": {
      "text/plain": [
       "True"
      ]
     },
     "execution_count": 52,
     "metadata": {},
     "output_type": "execute_result"
    }
   ],
   "source": [
    "operando1 != operando2"
   ]
  },
  {
   "cell_type": "code",
   "execution_count": 76,
   "metadata": {},
   "outputs": [
    {
     "name": "stdout",
     "output_type": "stream",
     "text": [
      "1 a 25\n",
      "2 t 24\n",
      "3 g 23\n",
      "4 a 22\n",
      "5 c 21\n",
      "6 c 20\n",
      "7 a 19\n",
      "8 c 18\n",
      "9 t 17\n",
      "10 a 16\n",
      "11 a 15\n",
      "12 c 14\n",
      "13 g 13\n",
      "14 a 12\n",
      "15 g 11\n",
      "16 g 10\n",
      "17 a 9\n",
      "18 a 8\n",
      "19 t 7\n",
      "20 t 6\n",
      "21 c 5\n",
      "22 a 4\n",
      "23 t 3\n",
      "24 t 2\n",
      "25 a 1\n"
     ]
    }
   ],
   "source": [
    "# asignación aumentada\n",
    "n = 1\n",
    "o = 25\n",
    "for i in Operando1:\n",
    "    print(n, i, o)\n",
    "    n += 1\n",
    "    o -= 1"
   ]
  },
  {
   "cell_type": "code",
   "execution_count": 82,
   "metadata": {},
   "outputs": [
    {
     "name": "stdout",
     "output_type": "stream",
     "text": [
      "a = Adenina\n",
      "t\n",
      "g\n",
      "a = Adenina\n",
      "c\n",
      "c\n",
      "a = Adenina\n",
      "c\n",
      "t\n",
      "a = Adenina\n",
      "a = Adenina\n",
      "c\n",
      "g\n",
      "a = Adenina\n",
      "g\n",
      "g\n",
      "a = Adenina\n",
      "a = Adenina\n",
      "t\n",
      "t\n",
      "c\n",
      "a = Adenina\n",
      "t\n",
      "t\n",
      "a = Adenina\n"
     ]
    }
   ],
   "source": [
    "# uso del operador `==`\n",
    "for i in Operando1:\n",
    "    if i == 'a':\n",
    "        print(i, '= Adenina')\n",
    "    else:\n",
    "        print(i)\n"
   ]
  },
  {
   "cell_type": "code",
   "execution_count": null,
   "metadata": {},
   "outputs": [],
   "source": []
  },
  {
   "cell_type": "code",
   "execution_count": null,
   "metadata": {},
   "outputs": [],
   "source": []
  },
  {
   "cell_type": "markdown",
   "metadata": {},
   "source": [
    "## <font color = blue>Operadores especiales</font>\n",
    "Si un elemento se encuentra dentro de otro `in`  \n",
    "Identidad de objeto `is`   \n",
    "Identidad de objeto negada `is not`   \n",
    "Devuelve verdadero sólo si se cumplen todas las condiciones: `and` (conjunción), se le conoce como `multiplicación lógica`       \n",
    "Devuelve verdadero si se cumple como mínimo una condición: `or` (disyunción), se le conoce como `suma lógica`   \n",
    "<img src=\"https://raw.githubusercontent.com/Bioinformatica2020/Anexos/master/operadores_logicos.jpg\" width = 40%> <br>\n",
    "**Los resultados boleanos siempre devuelven `False` o `True`**"
   ]
  },
  {
   "cell_type": "code",
   "execution_count": 17,
   "metadata": {},
   "outputs": [
    {
     "data": {
      "text/plain": [
       "True"
      ]
     },
     "execution_count": 17,
     "metadata": {},
     "output_type": "execute_result"
    }
   ],
   "source": [
    "3 in [1,2,3,4,5,6]"
   ]
  },
  {
   "cell_type": "code",
   "execution_count": 16,
   "metadata": {},
   "outputs": [
    {
     "data": {
      "text/plain": [
       "False"
      ]
     },
     "execution_count": 16,
     "metadata": {},
     "output_type": "execute_result"
    }
   ],
   "source": [
    "3 not in [1,2,3,4,5,6]"
   ]
  },
  {
   "cell_type": "code",
   "execution_count": 13,
   "metadata": {},
   "outputs": [
    {
     "data": {
      "text/plain": [
       "True"
      ]
     },
     "execution_count": 13,
     "metadata": {},
     "output_type": "execute_result"
    }
   ],
   "source": [
    "4 is not 5"
   ]
  },
  {
   "cell_type": "code",
   "execution_count": 18,
   "metadata": {},
   "outputs": [],
   "source": [
    "seq = 'atgaccactaacgaggaattcattaggacacagatattcggtacagttttcgagatcacaaatagatacaatgatttaaaccccgttgggatgggggcatttgggttggt'"
   ]
  },
  {
   "cell_type": "code",
   "execution_count": 19,
   "metadata": {},
   "outputs": [
    {
     "data": {
      "text/plain": [
       "True"
      ]
     },
     "execution_count": 19,
     "metadata": {},
     "output_type": "execute_result"
    }
   ],
   "source": [
    "'atg' in seq"
   ]
  },
  {
   "cell_type": "code",
   "execution_count": null,
   "metadata": {},
   "outputs": [],
   "source": []
  },
  {
   "attachments": {},
   "cell_type": "markdown",
   "metadata": {},
   "source": [
    "## <font color = red>Ejercicio:</font>\n",
    "1. Copia todo el argumento de la figura 1 en una celda\n",
    "2. Define el valor de las variables `a`, `b` y `c` de tal forma que al correr la celda el argumento devuelva `True`\n",
    "3. Haz un desglose de cada comparación `(a operador b)` e imprime el resultado, debe coincidir con la imagen\n",
    "\n",
    "## <font color = red>Ejercicio:</font>\n",
    "1. Copia todo el argumento de la figura 2 en una celda\n",
    "2. Inserta las variables y operadores faltantes de tal forma que al correr la celda el argumento devuelva `False`  \n",
    "3. Haz un desglose de cada comparación `(a operador b)` e imprime el resultado, debe coincidir con la imagen\n",
    "\n",
    "<img src=\"https://raw.githubusercontent.com/Bioinformatica2020/Anexos/master/ejercicios_operadores_logicos.jpg\" width = 60%> <br>"
   ]
  },
  {
   "cell_type": "code",
   "execution_count": null,
   "metadata": {},
   "outputs": [],
   "source": []
  },
  {
   "cell_type": "code",
   "execution_count": null,
   "metadata": {},
   "outputs": [],
   "source": []
  },
  {
   "cell_type": "code",
   "execution_count": null,
   "metadata": {},
   "outputs": [],
   "source": []
  },
  {
   "cell_type": "markdown",
   "metadata": {},
   "source": [
    "---\n",
    "# Estructura de datos\n",
    "* ### Listas\n",
    "* ### Tuplas\n",
    "* ### Conjuntos\n",
    "* ### Diccionarios\n",
    "* ### Arreglos <font color = orange>(esta estructura la veremos posteriormente)</font>"
   ]
  },
  {
   "cell_type": "markdown",
   "metadata": {},
   "source": [
    "## <font color = blue>Listas y tuplas</font>\n",
    "\n",
    "* #### Son de estructura similar\n",
    "* #### Las listas están delimitadas por corchetes `[]` y las tuplas por paréntesis `()`  \n",
    "* #### Las listas son dinámicas y las tuplas estáticas (inmutables)\n",
    "* #### Pueden contener: números, cadenas, funciones, listas, tuplas, arreglos, etc.\n",
    "* #### También pueden contener diferentes objetos.\n",
    "* #### Cada valor es un elemento.\n",
    "\n",
    "El índice de los elementos empieza desde el cero `0`"
   ]
  },
  {
   "cell_type": "markdown",
   "metadata": {},
   "source": [
    "### <font color = limegreen>Crear una lista</font> "
   ]
  },
  {
   "cell_type": "code",
   "execution_count": 161,
   "metadata": {},
   "outputs": [
    {
     "data": {
      "text/plain": [
       "[]"
      ]
     },
     "execution_count": 161,
     "metadata": {},
     "output_type": "execute_result"
    }
   ],
   "source": [
    "# se crea un objeto vacío\n",
    "lista = list()\n",
    "lista"
   ]
  },
  {
   "cell_type": "code",
   "execution_count": 163,
   "metadata": {},
   "outputs": [
    {
     "data": {
      "text/plain": [
       "[]"
      ]
     },
     "execution_count": 163,
     "metadata": {},
     "output_type": "execute_result"
    }
   ],
   "source": [
    "# se crea un objeto vacío\n",
    "lista = []\n",
    "lista"
   ]
  },
  {
   "cell_type": "code",
   "execution_count": 303,
   "metadata": {},
   "outputs": [
    {
     "data": {
      "text/plain": [
       "['Ala', 'Arg', 'Cys', 'Gln', 'Gly', 'His', 'Pro', 'Ser', 'Val', 'Lys', 'Met']"
      ]
     },
     "execution_count": 303,
     "metadata": {},
     "output_type": "execute_result"
    }
   ],
   "source": [
    "aminoacidos = ['Ala','Arg','Cys','Gln','Gly','His','Pro','Ser','Val', 'Lys','Met']\n",
    "aminoacidos"
   ]
  },
  {
   "cell_type": "code",
   "execution_count": 304,
   "metadata": {},
   "outputs": [],
   "source": [
    "# Agrega un elemento al final de la lista, la fenilalanina\n",
    "aminoacidos.append('Phe')"
   ]
  },
  {
   "cell_type": "code",
   "execution_count": 305,
   "metadata": {
    "scrolled": true
   },
   "outputs": [
    {
     "data": {
      "text/plain": [
       "['Ala',\n",
       " 'Arg',\n",
       " 'Cys',\n",
       " 'Gln',\n",
       " 'Gly',\n",
       " 'His',\n",
       " 'Pro',\n",
       " 'Ser',\n",
       " 'Val',\n",
       " 'Lys',\n",
       " 'Met',\n",
       " 'Phe']"
      ]
     },
     "execution_count": 305,
     "metadata": {},
     "output_type": "execute_result"
    }
   ],
   "source": [
    "aminoacidos"
   ]
  },
  {
   "cell_type": "code",
   "execution_count": 306,
   "metadata": {},
   "outputs": [],
   "source": [
    "# El primer argumento es el índice del ítem y lo que se insertará\n",
    "aminoacidos.insert(1, 'XXX')"
   ]
  },
  {
   "cell_type": "code",
   "execution_count": 307,
   "metadata": {
    "scrolled": true
   },
   "outputs": [
    {
     "data": {
      "text/plain": [
       "['Ala',\n",
       " 'XXX',\n",
       " 'Arg',\n",
       " 'Cys',\n",
       " 'Gln',\n",
       " 'Gly',\n",
       " 'His',\n",
       " 'Pro',\n",
       " 'Ser',\n",
       " 'Val',\n",
       " 'Lys',\n",
       " 'Met',\n",
       " 'Phe']"
      ]
     },
     "execution_count": 307,
     "metadata": {},
     "output_type": "execute_result"
    }
   ],
   "source": [
    "aminoacidos"
   ]
  },
  {
   "cell_type": "code",
   "execution_count": 308,
   "metadata": {},
   "outputs": [],
   "source": [
    "# Quita el primer elemento de la lista cuyo valor sea x\n",
    "aminoacidos.remove('XXX')"
   ]
  },
  {
   "cell_type": "code",
   "execution_count": 309,
   "metadata": {},
   "outputs": [
    {
     "data": {
      "text/plain": [
       "['Ala',\n",
       " 'Arg',\n",
       " 'Cys',\n",
       " 'Gln',\n",
       " 'Gly',\n",
       " 'His',\n",
       " 'Pro',\n",
       " 'Ser',\n",
       " 'Val',\n",
       " 'Lys',\n",
       " 'Met',\n",
       " 'Phe']"
      ]
     },
     "execution_count": 309,
     "metadata": {},
     "output_type": "execute_result"
    }
   ],
   "source": [
    "aminoacidos"
   ]
  },
  {
   "cell_type": "code",
   "execution_count": 310,
   "metadata": {},
   "outputs": [
    {
     "data": {
      "text/plain": [
       "'Lys'"
      ]
     },
     "execution_count": 310,
     "metadata": {},
     "output_type": "execute_result"
    }
   ],
   "source": [
    "# Quita el elemento en la posición dada de la lista, y lo imprime\n",
    "aminoacidos.pop(9)"
   ]
  },
  {
   "cell_type": "code",
   "execution_count": 311,
   "metadata": {},
   "outputs": [
    {
     "data": {
      "text/plain": [
       "['Ala', 'Arg', 'Cys', 'Gln', 'Gly', 'His', 'Pro', 'Ser', 'Val', 'Met', 'Phe']"
      ]
     },
     "execution_count": 311,
     "metadata": {},
     "output_type": "execute_result"
    }
   ],
   "source": [
    "aminoacidos"
   ]
  },
  {
   "cell_type": "code",
   "execution_count": 312,
   "metadata": {},
   "outputs": [],
   "source": [
    "# Quita todos los elementos de la lista\n",
    "aminoacidos.clear()"
   ]
  },
  {
   "cell_type": "code",
   "execution_count": 313,
   "metadata": {},
   "outputs": [
    {
     "data": {
      "text/plain": [
       "[]"
      ]
     },
     "execution_count": 313,
     "metadata": {},
     "output_type": "execute_result"
    }
   ],
   "source": [
    "aminoacidos"
   ]
  },
  {
   "cell_type": "code",
   "execution_count": 314,
   "metadata": {},
   "outputs": [],
   "source": [
    "# volverla a definir\n",
    "aminoacidos = ['Ala','Arg','Cys','Gln','Gly','His','Pro','Ser','Val', 'Lys','Met','Phe']"
   ]
  },
  {
   "cell_type": "code",
   "execution_count": 315,
   "metadata": {},
   "outputs": [
    {
     "data": {
      "text/plain": [
       "1"
      ]
     },
     "execution_count": 315,
     "metadata": {},
     "output_type": "execute_result"
    }
   ],
   "source": [
    "# Devuelve un índice basado en cero en la lista del primer elemento cuyo valor sea x\n",
    "aminoacidos.index('Arg')"
   ]
  },
  {
   "cell_type": "code",
   "execution_count": 316,
   "metadata": {},
   "outputs": [
    {
     "data": {
      "text/plain": [
       "1"
      ]
     },
     "execution_count": 316,
     "metadata": {},
     "output_type": "execute_result"
    }
   ],
   "source": [
    "# Devuelve el número de veces que x aparece en la lista.\n",
    "aminoacidos.count('Cys')"
   ]
  },
  {
   "cell_type": "code",
   "execution_count": null,
   "metadata": {},
   "outputs": [],
   "source": []
  },
  {
   "cell_type": "code",
   "execution_count": 317,
   "metadata": {},
   "outputs": [],
   "source": [
    "# Invierte los elementos de la lista\n",
    "aminoacidos.reverse()"
   ]
  },
  {
   "cell_type": "code",
   "execution_count": 318,
   "metadata": {},
   "outputs": [
    {
     "data": {
      "text/plain": [
       "['Phe',\n",
       " 'Met',\n",
       " 'Lys',\n",
       " 'Val',\n",
       " 'Ser',\n",
       " 'Pro',\n",
       " 'His',\n",
       " 'Gly',\n",
       " 'Gln',\n",
       " 'Cys',\n",
       " 'Arg',\n",
       " 'Ala']"
      ]
     },
     "execution_count": 318,
     "metadata": {},
     "output_type": "execute_result"
    }
   ],
   "source": [
    "aminoacidos"
   ]
  },
  {
   "cell_type": "code",
   "execution_count": 319,
   "metadata": {},
   "outputs": [],
   "source": [
    "# Ordena los elementos de la lista\n",
    "aminoacidos.sort()"
   ]
  },
  {
   "cell_type": "code",
   "execution_count": 320,
   "metadata": {},
   "outputs": [
    {
     "data": {
      "text/plain": [
       "['Ala',\n",
       " 'Arg',\n",
       " 'Cys',\n",
       " 'Gln',\n",
       " 'Gly',\n",
       " 'His',\n",
       " 'Lys',\n",
       " 'Met',\n",
       " 'Phe',\n",
       " 'Pro',\n",
       " 'Ser',\n",
       " 'Val']"
      ]
     },
     "execution_count": 320,
     "metadata": {},
     "output_type": "execute_result"
    }
   ],
   "source": [
    "aminoacidos"
   ]
  },
  {
   "cell_type": "markdown",
   "metadata": {},
   "source": [
    "## <font color = red>Ejercicio:</font>\n",
    "- Cómo saber la cantidad de elementos de la lista `aminoacidos`"
   ]
  },
  {
   "cell_type": "code",
   "execution_count": null,
   "metadata": {},
   "outputs": [],
   "source": []
  },
  {
   "cell_type": "code",
   "execution_count": null,
   "metadata": {},
   "outputs": [],
   "source": []
  },
  {
   "cell_type": "markdown",
   "metadata": {},
   "source": [
    "### <font color = limegreen>Acceso a los elementos</font> "
   ]
  },
  {
   "cell_type": "code",
   "execution_count": 331,
   "metadata": {},
   "outputs": [
    {
     "data": {
      "text/plain": [
       "'His'"
      ]
     },
     "execution_count": 331,
     "metadata": {},
     "output_type": "execute_result"
    }
   ],
   "source": [
    "# acceso a un elemento\n",
    "aminoacidos[5]"
   ]
  },
  {
   "cell_type": "code",
   "execution_count": 332,
   "metadata": {},
   "outputs": [
    {
     "data": {
      "text/plain": [
       "['Ala', 'Arg', 'Cys', 'Gln', 'Gly']"
      ]
     },
     "execution_count": 332,
     "metadata": {},
     "output_type": "execute_result"
    }
   ],
   "source": [
    "# extraer un segmento de la lista\n",
    "aminoacidos[0:5]"
   ]
  },
  {
   "cell_type": "code",
   "execution_count": null,
   "metadata": {},
   "outputs": [],
   "source": []
  },
  {
   "cell_type": "markdown",
   "metadata": {},
   "source": [
    "### <font color = limegreen>Crear una tupla</font>"
   ]
  },
  {
   "cell_type": "code",
   "execution_count": 335,
   "metadata": {},
   "outputs": [],
   "source": [
    "tupla = (1, 'a', 3, 'z', 5, [1,2,3,4])"
   ]
  },
  {
   "cell_type": "code",
   "execution_count": 337,
   "metadata": {},
   "outputs": [
    {
     "data": {
      "text/plain": [
       "(1, 'a', 3, 'z', 5, [1, 2, 3, 4])"
      ]
     },
     "execution_count": 337,
     "metadata": {},
     "output_type": "execute_result"
    }
   ],
   "source": [
    "tupla"
   ]
  },
  {
   "cell_type": "code",
   "execution_count": 336,
   "metadata": {},
   "outputs": [
    {
     "data": {
      "text/plain": [
       "5"
      ]
     },
     "execution_count": 336,
     "metadata": {},
     "output_type": "execute_result"
    }
   ],
   "source": [
    "# acceder a los elementos de la tupla\n",
    "tupla[4]"
   ]
  },
  {
   "cell_type": "code",
   "execution_count": null,
   "metadata": {},
   "outputs": [],
   "source": []
  },
  {
   "cell_type": "markdown",
   "metadata": {},
   "source": [
    "## <font color = red>Ejercicio:</font>\n",
    "- Cómo convertirías la lista `aminoacidos` en una tupla"
   ]
  },
  {
   "cell_type": "code",
   "execution_count": null,
   "metadata": {},
   "outputs": [],
   "source": []
  },
  {
   "cell_type": "code",
   "execution_count": null,
   "metadata": {},
   "outputs": [],
   "source": []
  },
  {
   "cell_type": "code",
   "execution_count": null,
   "metadata": {},
   "outputs": [],
   "source": []
  },
  {
   "cell_type": "code",
   "execution_count": null,
   "metadata": {},
   "outputs": [],
   "source": []
  },
  {
   "cell_type": "markdown",
   "metadata": {},
   "source": [
    "## <font color = blue>Conjuntos</font>\n",
    "\n",
    "* #### Un `conjunto` es una colección no ordenada y sin elementos repetidos\n",
    "* #### Se usa para verificación de pertenencia y eliminación de entradas duplicadas\n",
    "* #### Los conjuntos soportan operaciones matemáticas como la unión, intersección, diferencia y diferencia simétrica\n",
    "* #### Las llaves `{}` o la función `set()` pueden usarse para crear conjuntos  \n",
    "\n",
    "\n",
    "**Diferencia:** es el conjunto formado por los elementos que pertenecen al conjunto A y no pertenecen al conjunto B.   \n",
    "**Diferencia simétrica:** es el conjunto formado por los elementos que pertenecen a A que no están en B, y los elementos de B que no están en A"
   ]
  },
  {
   "cell_type": "code",
   "execution_count": 357,
   "metadata": {},
   "outputs": [],
   "source": [
    "# vamosa triplicar el contenido de la lista aminoacidos\n",
    "aminoacidos3 = aminoacidos * 3"
   ]
  },
  {
   "cell_type": "code",
   "execution_count": 358,
   "metadata": {
    "scrolled": true
   },
   "outputs": [
    {
     "data": {
      "text/plain": [
       "['Ala',\n",
       " 'Arg',\n",
       " 'Cys',\n",
       " 'Gln',\n",
       " 'Gly',\n",
       " 'His',\n",
       " 'Lys',\n",
       " 'Met',\n",
       " 'Phe',\n",
       " 'Pro',\n",
       " 'Ser',\n",
       " 'Val',\n",
       " 'Ala',\n",
       " 'Arg',\n",
       " 'Cys',\n",
       " 'Gln',\n",
       " 'Gly',\n",
       " 'His',\n",
       " 'Lys',\n",
       " 'Met',\n",
       " 'Phe',\n",
       " 'Pro',\n",
       " 'Ser',\n",
       " 'Val',\n",
       " 'Ala',\n",
       " 'Arg',\n",
       " 'Cys',\n",
       " 'Gln',\n",
       " 'Gly',\n",
       " 'His',\n",
       " 'Lys',\n",
       " 'Met',\n",
       " 'Phe',\n",
       " 'Pro',\n",
       " 'Ser',\n",
       " 'Val']"
      ]
     },
     "execution_count": 358,
     "metadata": {},
     "output_type": "execute_result"
    }
   ],
   "source": [
    "# cada aminoácido ahora aparece 3 veces\n",
    "aminoacidos3"
   ]
  },
  {
   "cell_type": "code",
   "execution_count": 280,
   "metadata": {},
   "outputs": [
    {
     "data": {
      "text/plain": [
       "{'Ala', 'Arg', 'Cys', 'Gln', 'Gly', 'His', 'Met', 'Phe', 'Pro', 'Ser', 'Val'}"
      ]
     },
     "execution_count": 280,
     "metadata": {},
     "output_type": "execute_result"
    }
   ],
   "source": [
    "# Al aplicar la función set() se remueven los duplicados \n",
    "set(aminoacidos3)"
   ]
  },
  {
   "cell_type": "code",
   "execution_count": null,
   "metadata": {},
   "outputs": [],
   "source": []
  },
  {
   "cell_type": "code",
   "execution_count": 527,
   "metadata": {},
   "outputs": [],
   "source": [
    "# conjunto numérico 1\n",
    "set1 = set(list(range(1, 11)))"
   ]
  },
  {
   "cell_type": "code",
   "execution_count": 528,
   "metadata": {
    "scrolled": true
   },
   "outputs": [
    {
     "data": {
      "text/plain": [
       "{1, 2, 3, 4, 5, 6, 7, 8, 9, 10}"
      ]
     },
     "execution_count": 528,
     "metadata": {},
     "output_type": "execute_result"
    }
   ],
   "source": [
    "set1"
   ]
  },
  {
   "cell_type": "code",
   "execution_count": 529,
   "metadata": {},
   "outputs": [],
   "source": [
    "# conjunto numérico 2\n",
    "set2 = set(list(range(6, 16)))"
   ]
  },
  {
   "cell_type": "code",
   "execution_count": 530,
   "metadata": {},
   "outputs": [
    {
     "data": {
      "text/plain": [
       "{6, 7, 8, 9, 10, 11, 12, 13, 14, 15}"
      ]
     },
     "execution_count": 530,
     "metadata": {},
     "output_type": "execute_result"
    }
   ],
   "source": [
    "set2"
   ]
  },
  {
   "cell_type": "code",
   "execution_count": null,
   "metadata": {},
   "outputs": [],
   "source": []
  },
  {
   "cell_type": "markdown",
   "metadata": {},
   "source": [
    "### <font color = limegreen>Encontrar la intersección entre los elementos del conjunto</font>\n",
    "- La intersección se obtiene solo entre conjuntos (puede ser más de un conjunto, pero de caracteres), y se usa el signo `&`\n",
    "- También se puede usar la función `A.intersection(B)`"
   ]
  },
  {
   "cell_type": "code",
   "execution_count": 531,
   "metadata": {},
   "outputs": [
    {
     "data": {
      "text/plain": [
       "{6, 7, 8, 9, 10}"
      ]
     },
     "execution_count": 531,
     "metadata": {},
     "output_type": "execute_result"
    }
   ],
   "source": [
    "# elementos compartidos entre los dos conjuntos\n",
    "set1 & set2"
   ]
  },
  {
   "cell_type": "code",
   "execution_count": 532,
   "metadata": {},
   "outputs": [
    {
     "data": {
      "text/plain": [
       "{6, 7, 8, 9, 10}"
      ]
     },
     "execution_count": 532,
     "metadata": {},
     "output_type": "execute_result"
    }
   ],
   "source": [
    "set1.intersection(set2)"
   ]
  },
  {
   "cell_type": "markdown",
   "metadata": {},
   "source": [
    "### <font color = limegreen>Diferencia entre los elementos del conjunto</font>\n",
    "- Puedes usar `-` y `A.difference(B)`"
   ]
  },
  {
   "cell_type": "code",
   "execution_count": 533,
   "metadata": {},
   "outputs": [
    {
     "data": {
      "text/plain": [
       "{1, 2, 3, 4, 5}"
      ]
     },
     "execution_count": 533,
     "metadata": {},
     "output_type": "execute_result"
    }
   ],
   "source": [
    "# lo que está en A que no está en B\n",
    "set1 - set2"
   ]
  },
  {
   "cell_type": "code",
   "execution_count": 534,
   "metadata": {},
   "outputs": [
    {
     "data": {
      "text/plain": [
       "{1, 2, 3, 4, 5}"
      ]
     },
     "execution_count": 534,
     "metadata": {},
     "output_type": "execute_result"
    }
   ],
   "source": [
    "set1.difference(set2)"
   ]
  },
  {
   "cell_type": "markdown",
   "metadata": {},
   "source": [
    "### <font color = limegreen>diferencia simétrica entre los elementos del conjunto</font>"
   ]
  },
  {
   "cell_type": "code",
   "execution_count": 535,
   "metadata": {},
   "outputs": [
    {
     "data": {
      "text/plain": [
       "{1, 2, 3, 4, 5}"
      ]
     },
     "execution_count": 535,
     "metadata": {},
     "output_type": "execute_result"
    }
   ],
   "source": [
    "# lo que está en A que no está en B\n",
    "set1 - set2"
   ]
  },
  {
   "cell_type": "code",
   "execution_count": 536,
   "metadata": {},
   "outputs": [
    {
     "data": {
      "text/plain": [
       "{11, 12, 13, 14, 15}"
      ]
     },
     "execution_count": 536,
     "metadata": {},
     "output_type": "execute_result"
    }
   ],
   "source": [
    "# lo que está en B que no está en A\n",
    "set2 - set1"
   ]
  },
  {
   "cell_type": "code",
   "execution_count": 537,
   "metadata": {
    "scrolled": true
   },
   "outputs": [
    {
     "data": {
      "text/plain": [
       "{1, 2, 3, 4, 5, 11, 12, 13, 14, 15}"
      ]
     },
     "execution_count": 537,
     "metadata": {},
     "output_type": "execute_result"
    }
   ],
   "source": [
    "# diferencia asimétrica, suma de las diferencias anteriores\n",
    "# el símbolo `|` une los dos conjuntos\n",
    "set1 - set2 | set2 - set1"
   ]
  },
  {
   "cell_type": "code",
   "execution_count": null,
   "metadata": {},
   "outputs": [],
   "source": []
  },
  {
   "cell_type": "code",
   "execution_count": null,
   "metadata": {},
   "outputs": [],
   "source": []
  },
  {
   "cell_type": "code",
   "execution_count": 538,
   "metadata": {},
   "outputs": [
    {
     "data": {
      "text/plain": [
       "'\\nactiva esta casilla y ejecútala, observa si obtienes lo mismo,\\nes otra forma de obtener la diferencia simétrica\\n'"
      ]
     },
     "execution_count": 538,
     "metadata": {},
     "output_type": "execute_result"
    }
   ],
   "source": [
    "\"\"\"\n",
    "activa esta casilla y ejecútala, observa si obtienes lo mismo,\n",
    "es otra forma de obtener la diferencia simétrica\n",
    "\"\"\"\n",
    "# set1.symmetric_difference(set2)"
   ]
  },
  {
   "cell_type": "code",
   "execution_count": null,
   "metadata": {},
   "outputs": [],
   "source": []
  },
  {
   "cell_type": "markdown",
   "metadata": {},
   "source": [
    "### <font color = purple>Visualización de los conjuntos del ejercicio</font>\n",
    "#### antes tienes que instalar: matplotlib-venn\n",
    "https://pypi.org/project/matplotlib-venn/\n",
    "#### `python -mpip install matplotlib-venn`"
   ]
  },
  {
   "cell_type": "code",
   "execution_count": 539,
   "metadata": {},
   "outputs": [],
   "source": [
    "# llamamos funciones del módulo matplotlib-venn\n",
    "from matplotlib_venn import venn2, venn2_circles, venn2_unweighted\n",
    "import matplotlib.pyplot as plt"
   ]
  },
  {
   "cell_type": "code",
   "execution_count": 540,
   "metadata": {
    "scrolled": true
   },
   "outputs": [
    {
     "data": {
      "image/png": "[encoded data removed]",
      "text/plain": [
       "<Figure size 360x360 with 1 Axes>"
      ]
     },
     "metadata": {},
     "output_type": "display_data"
    }
   ],
   "source": [
    "plt.figure(figsize=(5, 5))\n",
    "v = venn2(subsets=[set1, set2], set_labels=('set1', 'set1'))\n",
    "c = venn2_circles(subsets=[set1, set2], linestyle='dashed')\n",
    "\n",
    "\n",
    "v.get_patch_by_id('11').set_alpha(0.1)\n",
    "v.get_label_by_id('11').set_fontsize(25)\n",
    "v.get_label_by_id('11').set_fontweight('bold')\n",
    "\n",
    "\n",
    "v.get_label_by_id('10').set_fontsize(20)\n",
    "v.get_label_by_id('01').set_fontsize(20)\n",
    "v.get_label_by_id('A').set_fontsize(25)\n",
    "v.get_label_by_id('B').set_fontsize(25)\n",
    "\n",
    "# si quieres salvar el gráfico activa la siguiente línea, y vuelve a correr la celda\n",
    "#plt.savefig('Conjuntos.png',dpi = 600, bbox_inches='tight')\n",
    "\n",
    "plt.show()"
   ]
  },
  {
   "cell_type": "code",
   "execution_count": null,
   "metadata": {},
   "outputs": [],
   "source": []
  },
  {
   "cell_type": "markdown",
   "metadata": {},
   "source": [
    "## <font color = red>Ejercicio:</font>\n",
    "1. Crear dos conjuntos:\n",
    "   - Uno con esta lista de aminoácidos: RELKLLKHLRHENLICLQDIF, llámalo `set_amino1`\n",
    "   - Otro con esta lista de aminoácidos: ENLICLQDIFLSPLEDIY, llámalo `set_amino2`\n",
    "2. Identifica la intersección\n",
    "3. Cuál es la diferencia entre los conjuntos\n",
    "3. Cuál es la diferencia asimétrica entre los conjuntos\n",
    "4. Genera el diagrama de Venn"
   ]
  },
  {
   "cell_type": "code",
   "execution_count": 433,
   "metadata": {},
   "outputs": [],
   "source": []
  },
  {
   "cell_type": "code",
   "execution_count": null,
   "metadata": {},
   "outputs": [],
   "source": []
  },
  {
   "cell_type": "code",
   "execution_count": null,
   "metadata": {},
   "outputs": [],
   "source": []
  },
  {
   "cell_type": "markdown",
   "metadata": {},
   "source": [
    "## <font color = blue>Diccionarios</font>\n",
    "\n",
    "* #### Es una estructura de datos que permite almacenar cualquier tipo de objeto\n",
    "* #### Permite identificar cada elemento por una clave\n",
    "* #### Un diccionario está delimitado por llaves\n",
    "* #### Las parejas clave-valor se separan por comas `,`\n",
    "* #### La clave y el valor se separan por dos puntos `:`"
   ]
  },
  {
   "cell_type": "code",
   "execution_count": 290,
   "metadata": {},
   "outputs": [
    {
     "data": {
      "text/plain": [
       "{'A': 'adenine', 'T': 'thymine', 'G': 'guanine', 'C': 'cytosine'}"
      ]
     },
     "execution_count": 290,
     "metadata": {},
     "output_type": "execute_result"
    }
   ],
   "source": [
    "# ejemplo\n",
    "nucleotidos = {'A':'adenine', 'T':'thymine', 'G':'guanine', 'C':'cytosine'}\n",
    "nucleotidos"
   ]
  },
  {
   "cell_type": "code",
   "execution_count": null,
   "metadata": {},
   "outputs": [],
   "source": []
  },
  {
   "cell_type": "markdown",
   "metadata": {},
   "source": [
    "## <font color = red>Ejercicio:</font>\n",
    "1. Transforma la lista `aminoacidos` en un diccionario, de tal forma que la clave esté en código de una letra, ejemplo {'L': 'Leu', ...}\n",
    "2. Al nuevo diccionario llámalo `amino_dict`"
   ]
  },
  {
   "cell_type": "code",
   "execution_count": null,
   "metadata": {},
   "outputs": [],
   "source": []
  },
  {
   "cell_type": "code",
   "execution_count": 322,
   "metadata": {},
   "outputs": [
    {
     "data": {
      "text/plain": [
       "{'A': 'Ala',\n",
       " 'R': 'Arg',\n",
       " 'C': 'Cys',\n",
       " 'Q': 'Gln',\n",
       " 'G': 'Gly',\n",
       " 'H': 'His',\n",
       " 'K': 'Lys',\n",
       " 'M': 'Met',\n",
       " 'F': 'Phe',\n",
       " 'P': 'Pro',\n",
       " 'S': 'Ser',\n",
       " 'V': 'Val'}"
      ]
     },
     "execution_count": 322,
     "metadata": {},
     "output_type": "execute_result"
    }
   ],
   "source": [
    "amino_dict"
   ]
  },
  {
   "cell_type": "code",
   "execution_count": null,
   "metadata": {},
   "outputs": [],
   "source": []
  },
  {
   "cell_type": "markdown",
   "metadata": {},
   "source": [
    "### <font color = limegreen>Cómo acceder a los valores del diccionario</font> "
   ]
  },
  {
   "cell_type": "code",
   "execution_count": 323,
   "metadata": {},
   "outputs": [
    {
     "data": {
      "text/plain": [
       "'His'"
      ]
     },
     "execution_count": 323,
     "metadata": {},
     "output_type": "execute_result"
    }
   ],
   "source": [
    "# accedemos mediante la clave del elemento\n",
    "amino_dict['H']"
   ]
  },
  {
   "cell_type": "code",
   "execution_count": null,
   "metadata": {},
   "outputs": [],
   "source": []
  },
  {
   "cell_type": "markdown",
   "metadata": {},
   "source": [
    "### <font color = limegreen>Cómo obtener todas las claves del diccionario</font> "
   ]
  },
  {
   "cell_type": "code",
   "execution_count": 342,
   "metadata": {},
   "outputs": [
    {
     "data": {
      "text/plain": [
       "dict_keys(['A', 'R', 'C', 'Q', 'G', 'K', 'M', 'F', 'P', 'S', 'V', 'I', 'Y'])"
      ]
     },
     "execution_count": 342,
     "metadata": {},
     "output_type": "execute_result"
    }
   ],
   "source": [
    "amino_dict.keys()"
   ]
  },
  {
   "cell_type": "markdown",
   "metadata": {},
   "source": [
    "## <font color = red>Ejercicio:</font>\n",
    "1. Cómo transformarías `amino_dict.keys()` en una lista"
   ]
  },
  {
   "cell_type": "code",
   "execution_count": null,
   "metadata": {},
   "outputs": [],
   "source": []
  },
  {
   "cell_type": "markdown",
   "metadata": {},
   "source": [
    "### <font color = limegreen>Cómo obtener todos los valores del diccionario</font> "
   ]
  },
  {
   "cell_type": "code",
   "execution_count": 344,
   "metadata": {},
   "outputs": [
    {
     "data": {
      "text/plain": [
       "dict_values(['Ala', 'Arg', 'Cys', 'Gln', 'Gly', 'Lys', 'Met', 'Phe', 'Pro', 'Ser', 'Val', 'Ile', 'Tyr'])"
      ]
     },
     "execution_count": 344,
     "metadata": {},
     "output_type": "execute_result"
    }
   ],
   "source": [
    "amino_dict.values()"
   ]
  },
  {
   "cell_type": "markdown",
   "metadata": {},
   "source": [
    "## <font color = red>Ejercicio:</font>\n",
    "1. Cómo transformarías `amino_dict.values()` en una lista"
   ]
  },
  {
   "cell_type": "code",
   "execution_count": null,
   "metadata": {},
   "outputs": [],
   "source": []
  },
  {
   "cell_type": "code",
   "execution_count": null,
   "metadata": {},
   "outputs": [],
   "source": []
  },
  {
   "cell_type": "markdown",
   "metadata": {},
   "source": [
    "### <font color = limegreen>Eliminar claves del diccionario</font> \n",
    "- Recibe como parámetro una clave, elimina esta y devuelve su valor. Si no lo encuentra, devuelve error."
   ]
  },
  {
   "cell_type": "code",
   "execution_count": 326,
   "metadata": {},
   "outputs": [
    {
     "data": {
      "text/plain": [
       "'His'"
      ]
     },
     "execution_count": 326,
     "metadata": {},
     "output_type": "execute_result"
    }
   ],
   "source": [
    "amino_dict.pop('H')"
   ]
  },
  {
   "cell_type": "code",
   "execution_count": 327,
   "metadata": {},
   "outputs": [
    {
     "data": {
      "text/plain": [
       "{'A': 'Ala',\n",
       " 'R': 'Arg',\n",
       " 'C': 'Cys',\n",
       " 'Q': 'Gln',\n",
       " 'G': 'Gly',\n",
       " 'K': 'Lys',\n",
       " 'M': 'Met',\n",
       " 'F': 'Phe',\n",
       " 'P': 'Pro',\n",
       " 'S': 'Ser',\n",
       " 'V': 'Val'}"
      ]
     },
     "execution_count": 327,
     "metadata": {},
     "output_type": "execute_result"
    }
   ],
   "source": [
    "amino_dict"
   ]
  },
  {
   "cell_type": "code",
   "execution_count": null,
   "metadata": {},
   "outputs": [],
   "source": []
  },
  {
   "cell_type": "markdown",
   "metadata": {},
   "source": [
    "### <font color = limegreen>Actualizar un diccionario</font>\n",
    "- Recibe como parámetro otro diccionario.\n",
    "- Si se tienen claves iguales, actualiza el valor de la clave repetida; si no hay claves iguales, este par clave-valor es agregado al diccionario."
   ]
  },
  {
   "cell_type": "code",
   "execution_count": 328,
   "metadata": {},
   "outputs": [
    {
     "data": {
      "text/plain": [
       "{'I': 'Ile', 'Y': 'Tyr'}"
      ]
     },
     "execution_count": 328,
     "metadata": {},
     "output_type": "execute_result"
    }
   ],
   "source": [
    "aminoacidos2 = {'I':'Ile', 'Y':'Tyr'}\n",
    "aminoacidos2"
   ]
  },
  {
   "cell_type": "code",
   "execution_count": null,
   "metadata": {},
   "outputs": [],
   "source": []
  },
  {
   "cell_type": "code",
   "execution_count": 329,
   "metadata": {},
   "outputs": [],
   "source": [
    "# actualizando el diccionario\n",
    "amino_dict.update(aminoacidos2)"
   ]
  },
  {
   "cell_type": "code",
   "execution_count": 330,
   "metadata": {},
   "outputs": [
    {
     "data": {
      "text/plain": [
       "{'A': 'Ala',\n",
       " 'R': 'Arg',\n",
       " 'C': 'Cys',\n",
       " 'Q': 'Gln',\n",
       " 'G': 'Gly',\n",
       " 'K': 'Lys',\n",
       " 'M': 'Met',\n",
       " 'F': 'Phe',\n",
       " 'P': 'Pro',\n",
       " 'S': 'Ser',\n",
       " 'V': 'Val',\n",
       " 'I': 'Ile',\n",
       " 'Y': 'Tyr'}"
      ]
     },
     "execution_count": 330,
     "metadata": {},
     "output_type": "execute_result"
    }
   ],
   "source": [
    "# cómo quedó finalmente el nuevo diccionario\n",
    "amino_dict"
   ]
  },
  {
   "cell_type": "code",
   "execution_count": null,
   "metadata": {},
   "outputs": [],
   "source": []
  },
  {
   "cell_type": "code",
   "execution_count": null,
   "metadata": {},
   "outputs": [],
   "source": []
  },
  {
   "cell_type": "code",
   "execution_count": null,
   "metadata": {},
   "outputs": [],
   "source": []
  },
  {
   "cell_type": "markdown",
   "metadata": {},
   "source": [
    "# Programación estructurada\n",
    "\n",
    "## <font color = blue>Estructuras de control de flujo condicionales</font>\n",
    "- ### <font color = limegreen>if</font>, significa \"si\" (condición).\n",
    "- ### <font color = limegreen>elif</font>, es una segunda condición y se evalúa si `if` es `False`\n",
    "- ### <font color = limegreen>else</font>, significa \"si no\".\n",
    "### <font color = magenta>Los condicionales son las estructuras de control más importantes en toda la programación</font>\n",
    "<img src=\"https://raw.githubusercontent.com/Bioinformatica2020/Anexos/master/if_else.jpg\" width = 60%>\n",
    "\n",
    "<img src=\"https://raw.githubusercontent.com/Bioinformatica2020/Anexos/master/if_elif_else.jpg\" width = 40%>\n",
    "\n",
    "---\n",
    "Puedes ingresar a este sitio, hay varios ejemplos de condicionales  \n",
    "https://www.mclibre.org/consultar/python/lecciones/python-if-else.html\n",
    "\n",
    "---"
   ]
  },
  {
   "cell_type": "markdown",
   "metadata": {},
   "source": [
    "### <font color = limegreen>Un ejemplo bastante sencillo</font>"
   ]
  },
  {
   "cell_type": "code",
   "execution_count": 548,
   "metadata": {},
   "outputs": [
    {
     "name": "stdout",
     "output_type": "stream",
     "text": [
      "Ingresa un número y da enter:0\n",
      "Tu número es negativo\n"
     ]
    }
   ],
   "source": [
    "numero = int(input('Ingresa un número y da enter:'))\n",
    "if numero > 0:\n",
    "    print('Tu número es positivo')\n",
    "else:\n",
    "    print('Tu número es negativo')"
   ]
  },
  {
   "cell_type": "markdown",
   "metadata": {},
   "source": [
    "#### te das cuenta que si ingresas 0 lo registra como número negativo, cómo se resuelve la asignación del 0"
   ]
  },
  {
   "cell_type": "code",
   "execution_count": 550,
   "metadata": {},
   "outputs": [
    {
     "name": "stdout",
     "output_type": "stream",
     "text": [
      "Ingresa un número y da enter:-6\n",
      "Tu número es negativo\n"
     ]
    }
   ],
   "source": [
    "numero = int(input('Ingresa un número y da enter:'))\n",
    "if numero > 0:\n",
    "    print('Tu número es positivo')\n",
    "elif numero == 0:\n",
    "    print('Tu número es 0')\n",
    "else:\n",
    "    print('Tu número es negativo')"
   ]
  },
  {
   "cell_type": "code",
   "execution_count": null,
   "metadata": {},
   "outputs": [],
   "source": []
  },
  {
   "cell_type": "markdown",
   "metadata": {},
   "source": [
    "### <font color = red>Ahora veamos otro ejemplo usando una lista de organismos del KEGG</font>"
   ]
  },
  {
   "cell_type": "code",
   "execution_count": null,
   "metadata": {},
   "outputs": [],
   "source": []
  },
  {
   "cell_type": "markdown",
   "metadata": {},
   "source": [
    "### Descargar el data frame llamado `KEGG_organisms.csv` desde Bioinformatica2020/Semana3, depositarlo en el directorio Descargas"
   ]
  },
  {
   "cell_type": "markdown",
   "metadata": {},
   "source": [
    "### Importar el data frame"
   ]
  },
  {
   "cell_type": "code",
   "execution_count": 565,
   "metadata": {},
   "outputs": [],
   "source": [
    "# importamos el módulo pandas y lo renombramos pd\n",
    "import pandas as pd"
   ]
  },
  {
   "cell_type": "code",
   "execution_count": 568,
   "metadata": {},
   "outputs": [
    {
     "data": {
      "text/html": [
       "<div>\n",
       "<style scoped>\n",
       "    .dataframe tbody tr th:only-of-type {\n",
       "        vertical-align: middle;\n",
       "    }\n",
       "\n",
       "    .dataframe tbody tr th {\n",
       "        vertical-align: top;\n",
       "    }\n",
       "\n",
       "    .dataframe thead th {\n",
       "        text-align: right;\n",
       "    }\n",
       "</style>\n",
       "<table border=\"1\" class=\"dataframe\">\n",
       "  <thead>\n",
       "    <tr style=\"text-align: right;\">\n",
       "      <th></th>\n",
       "      <th>Organisms</th>\n",
       "    </tr>\n",
       "  </thead>\n",
       "  <tbody>\n",
       "    <tr>\n",
       "      <th>0</th>\n",
       "      <td>Nostoc azollae</td>\n",
       "    </tr>\n",
       "    <tr>\n",
       "      <th>1</th>\n",
       "      <td>Acanthamoeba castellanii</td>\n",
       "    </tr>\n",
       "    <tr>\n",
       "      <th>2</th>\n",
       "      <td>Acanthaster planci</td>\n",
       "    </tr>\n",
       "    <tr>\n",
       "      <th>3</th>\n",
       "      <td>Acaryochloris marina</td>\n",
       "    </tr>\n",
       "    <tr>\n",
       "      <th>4</th>\n",
       "      <td>Accumulibacter phosphatis</td>\n",
       "    </tr>\n",
       "    <tr>\n",
       "      <th>...</th>\n",
       "      <td>...</td>\n",
       "    </tr>\n",
       "    <tr>\n",
       "      <th>6312</th>\n",
       "      <td>Zymomonas mobilis</td>\n",
       "    </tr>\n",
       "    <tr>\n",
       "      <th>6313</th>\n",
       "      <td>Zymomonas mobilis</td>\n",
       "    </tr>\n",
       "    <tr>\n",
       "      <th>6314</th>\n",
       "      <td>Zymomonas mobilis</td>\n",
       "    </tr>\n",
       "    <tr>\n",
       "      <th>6315</th>\n",
       "      <td>Zymomonas mobilis</td>\n",
       "    </tr>\n",
       "    <tr>\n",
       "      <th>6316</th>\n",
       "      <td>Zymoseptoria tritici</td>\n",
       "    </tr>\n",
       "  </tbody>\n",
       "</table>\n",
       "<p>6317 rows × 1 columns</p>\n",
       "</div>"
      ],
      "text/plain": [
       "                      Organisms\n",
       "0                Nostoc azollae\n",
       "1      Acanthamoeba castellanii\n",
       "2            Acanthaster planci\n",
       "3          Acaryochloris marina\n",
       "4     Accumulibacter phosphatis\n",
       "...                         ...\n",
       "6312          Zymomonas mobilis\n",
       "6313          Zymomonas mobilis\n",
       "6314          Zymomonas mobilis\n",
       "6315          Zymomonas mobilis\n",
       "6316       Zymoseptoria tritici\n",
       "\n",
       "[6317 rows x 1 columns]"
      ]
     },
     "execution_count": 568,
     "metadata": {},
     "output_type": "execute_result"
    }
   ],
   "source": [
    "kegg_org = pd.read_csv('Descargas/KEGG_organisms.csv')\n",
    "kegg_org"
   ]
  },
  {
   "cell_type": "code",
   "execution_count": null,
   "metadata": {},
   "outputs": [],
   "source": []
  },
  {
   "cell_type": "markdown",
   "metadata": {},
   "source": [
    "### Convertir la columna Organisms en una lista"
   ]
  },
  {
   "cell_type": "code",
   "execution_count": null,
   "metadata": {},
   "outputs": [],
   "source": []
  },
  {
   "cell_type": "markdown",
   "metadata": {},
   "source": [
    "### Ahora usar condicionales para buscar un organismo y determinar si existe en la base de datos"
   ]
  },
  {
   "cell_type": "code",
   "execution_count": 570,
   "metadata": {},
   "outputs": [
    {
     "data": {
      "text/plain": [
       "True"
      ]
     },
     "execution_count": 570,
     "metadata": {},
     "output_type": "execute_result"
    }
   ],
   "source": [
    "'Saccharomyces cerevisiae' in kegg_org.Organisms.tolist()"
   ]
  },
  {
   "cell_type": "code",
   "execution_count": 575,
   "metadata": {},
   "outputs": [
    {
     "name": "stdout",
     "output_type": "stream",
     "text": [
      "Ingresa nombre de un organismo (ej. Saccharomyces cerevisiae):khjgjg\n",
      "khjgjg no existe en la base de datos\n"
     ]
    }
   ],
   "source": [
    "organismo = input('Ingresa nombre de un organismo (ej. Saccharomyces cerevisiae):')\n",
    "if organismo in kegg_org.Organisms.tolist():\n",
    "    print(organismo+' se encuentra en la base de datos')\n",
    "else:\n",
    "    print(organismo+' no existe en la base de datos')"
   ]
  },
  {
   "cell_type": "code",
   "execution_count": null,
   "metadata": {},
   "outputs": [],
   "source": []
  },
  {
   "cell_type": "code",
   "execution_count": null,
   "metadata": {},
   "outputs": [],
   "source": []
  },
  {
   "cell_type": "code",
   "execution_count": null,
   "metadata": {},
   "outputs": [],
   "source": []
  },
  {
   "cell_type": "code",
   "execution_count": null,
   "metadata": {},
   "outputs": [],
   "source": []
  }
 ],
 "metadata": {
  "kernelspec": {
   "display_name": "Python 3",
   "language": "python",
   "name": "python3"
  },
  "language_info": {
   "codemirror_mode": {
    "name": "ipython",
    "version": 3
   },
   "file_extension": ".py",
   "mimetype": "text/x-python",
   "name": "python",
   "nbconvert_exporter": "python",
   "pygments_lexer": "ipython3",
   "version": "3.7.5"
  }
 },
 "nbformat": 4,
 "nbformat_minor": 4
}
